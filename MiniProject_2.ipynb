{
 "cells": [
  {
   "cell_type": "markdown",
   "id": "3ab8ce2a",
   "metadata": {},
   "source": [
    "# Linear Regression"
   ]
  },
  {
   "cell_type": "code",
   "execution_count": 34,
   "id": "7756388f",
   "metadata": {},
   "outputs": [],
   "source": [
    "import pandas as pd\n",
    "import numpy as np\n",
    "import matplotlib.pyplot as plt\n",
    "%matplotlib inline"
   ]
  },
  {
   "cell_type": "code",
   "execution_count": 35,
   "id": "41fa29e5",
   "metadata": {},
   "outputs": [],
   "source": [
    "# Load the dataset\n",
    "df = pd.read_csv('students_lg.csv')"
   ]
  },
  {
   "cell_type": "markdown",
   "id": "0b1750f6",
   "metadata": {},
   "source": [
    "### Exploratory Data Analysis"
   ]
  },
  {
   "cell_type": "code",
   "execution_count": 36,
   "id": "8ceae0d5",
   "metadata": {},
   "outputs": [
    {
     "data": {
      "text/plain": [
       "(40, 2)"
      ]
     },
     "execution_count": 36,
     "metadata": {},
     "output_type": "execute_result"
    }
   ],
   "source": [
    "df.shape"
   ]
  },
  {
   "cell_type": "code",
   "execution_count": 37,
   "id": "13d791b8",
   "metadata": {},
   "outputs": [
    {
     "data": {
      "text/html": [
       "<div>\n",
       "<style scoped>\n",
       "    .dataframe tbody tr th:only-of-type {\n",
       "        vertical-align: middle;\n",
       "    }\n",
       "\n",
       "    .dataframe tbody tr th {\n",
       "        vertical-align: top;\n",
       "    }\n",
       "\n",
       "    .dataframe thead th {\n",
       "        text-align: right;\n",
       "    }\n",
       "</style>\n",
       "<table border=\"1\" class=\"dataframe\">\n",
       "  <thead>\n",
       "    <tr style=\"text-align: right;\">\n",
       "      <th></th>\n",
       "      <th>Study_Hours</th>\n",
       "      <th>Exam_Score</th>\n",
       "    </tr>\n",
       "  </thead>\n",
       "  <tbody>\n",
       "    <tr>\n",
       "      <th>0</th>\n",
       "      <td>7</td>\n",
       "      <td>124</td>\n",
       "    </tr>\n",
       "    <tr>\n",
       "      <th>1</th>\n",
       "      <td>4</td>\n",
       "      <td>89</td>\n",
       "    </tr>\n",
       "    <tr>\n",
       "      <th>2</th>\n",
       "      <td>8</td>\n",
       "      <td>126</td>\n",
       "    </tr>\n",
       "    <tr>\n",
       "      <th>3</th>\n",
       "      <td>5</td>\n",
       "      <td>98</td>\n",
       "    </tr>\n",
       "    <tr>\n",
       "      <th>4</th>\n",
       "      <td>7</td>\n",
       "      <td>191</td>\n",
       "    </tr>\n",
       "  </tbody>\n",
       "</table>\n",
       "</div>"
      ],
      "text/plain": [
       "   Study_Hours  Exam_Score\n",
       "0            7         124\n",
       "1            4          89\n",
       "2            8         126\n",
       "3            5          98\n",
       "4            7         191"
      ]
     },
     "execution_count": 37,
     "metadata": {},
     "output_type": "execute_result"
    }
   ],
   "source": [
    "# View the first five rows of the dataset\n",
    "df.head()"
   ]
  },
  {
   "cell_type": "code",
   "execution_count": 38,
   "id": "7e6ad68c",
   "metadata": {},
   "outputs": [],
   "source": [
    "df.columns = ['Study Hours', 'Exam Scores']"
   ]
  },
  {
   "cell_type": "code",
   "execution_count": 39,
   "id": "9f8e1748",
   "metadata": {},
   "outputs": [
    {
     "data": {
      "text/html": [
       "<div>\n",
       "<style scoped>\n",
       "    .dataframe tbody tr th:only-of-type {\n",
       "        vertical-align: middle;\n",
       "    }\n",
       "\n",
       "    .dataframe tbody tr th {\n",
       "        vertical-align: top;\n",
       "    }\n",
       "\n",
       "    .dataframe thead th {\n",
       "        text-align: right;\n",
       "    }\n",
       "</style>\n",
       "<table border=\"1\" class=\"dataframe\">\n",
       "  <thead>\n",
       "    <tr style=\"text-align: right;\">\n",
       "      <th></th>\n",
       "      <th>Study Hours</th>\n",
       "      <th>Exam Scores</th>\n",
       "    </tr>\n",
       "  </thead>\n",
       "  <tbody>\n",
       "    <tr>\n",
       "      <th>0</th>\n",
       "      <td>7</td>\n",
       "      <td>124</td>\n",
       "    </tr>\n",
       "    <tr>\n",
       "      <th>1</th>\n",
       "      <td>4</td>\n",
       "      <td>89</td>\n",
       "    </tr>\n",
       "    <tr>\n",
       "      <th>2</th>\n",
       "      <td>8</td>\n",
       "      <td>126</td>\n",
       "    </tr>\n",
       "    <tr>\n",
       "      <th>3</th>\n",
       "      <td>5</td>\n",
       "      <td>98</td>\n",
       "    </tr>\n",
       "    <tr>\n",
       "      <th>4</th>\n",
       "      <td>7</td>\n",
       "      <td>191</td>\n",
       "    </tr>\n",
       "  </tbody>\n",
       "</table>\n",
       "</div>"
      ],
      "text/plain": [
       "   Study Hours  Exam Scores\n",
       "0            7          124\n",
       "1            4           89\n",
       "2            8          126\n",
       "3            5           98\n",
       "4            7          191"
      ]
     },
     "execution_count": 39,
     "metadata": {},
     "output_type": "execute_result"
    }
   ],
   "source": [
    "# Review the dataset to check whether the column names are changed\n",
    "df.head()"
   ]
  },
  {
   "cell_type": "code",
   "execution_count": 40,
   "id": "0e2d19aa",
   "metadata": {},
   "outputs": [
    {
     "name": "stdout",
     "output_type": "stream",
     "text": [
      "<class 'pandas.core.frame.DataFrame'>\n",
      "RangeIndex: 40 entries, 0 to 39\n",
      "Data columns (total 2 columns):\n",
      " #   Column       Non-Null Count  Dtype\n",
      "---  ------       --------------  -----\n",
      " 0   Study Hours  40 non-null     int64\n",
      " 1   Exam Scores  40 non-null     int64\n",
      "dtypes: int64(2)\n",
      "memory usage: 768.0 bytes\n"
     ]
    }
   ],
   "source": [
    "# View the summary of the dataset\n",
    "df.info()"
   ]
  },
  {
   "cell_type": "code",
   "execution_count": 41,
   "id": "460f0109",
   "metadata": {},
   "outputs": [
    {
     "data": {
      "text/html": [
       "<div>\n",
       "<style scoped>\n",
       "    .dataframe tbody tr th:only-of-type {\n",
       "        vertical-align: middle;\n",
       "    }\n",
       "\n",
       "    .dataframe tbody tr th {\n",
       "        vertical-align: top;\n",
       "    }\n",
       "\n",
       "    .dataframe thead th {\n",
       "        text-align: right;\n",
       "    }\n",
       "</style>\n",
       "<table border=\"1\" class=\"dataframe\">\n",
       "  <thead>\n",
       "    <tr style=\"text-align: right;\">\n",
       "      <th></th>\n",
       "      <th>Study Hours</th>\n",
       "      <th>Exam Scores</th>\n",
       "    </tr>\n",
       "  </thead>\n",
       "  <tbody>\n",
       "    <tr>\n",
       "      <th>count</th>\n",
       "      <td>40.00000</td>\n",
       "      <td>40.000000</td>\n",
       "    </tr>\n",
       "    <tr>\n",
       "      <th>mean</th>\n",
       "      <td>5.40000</td>\n",
       "      <td>102.150000</td>\n",
       "    </tr>\n",
       "    <tr>\n",
       "      <th>std</th>\n",
       "      <td>2.46826</td>\n",
       "      <td>46.055457</td>\n",
       "    </tr>\n",
       "    <tr>\n",
       "      <th>min</th>\n",
       "      <td>1.00000</td>\n",
       "      <td>16.000000</td>\n",
       "    </tr>\n",
       "    <tr>\n",
       "      <th>25%</th>\n",
       "      <td>3.00000</td>\n",
       "      <td>73.750000</td>\n",
       "    </tr>\n",
       "    <tr>\n",
       "      <th>50%</th>\n",
       "      <td>5.00000</td>\n",
       "      <td>99.000000</td>\n",
       "    </tr>\n",
       "    <tr>\n",
       "      <th>75%</th>\n",
       "      <td>7.25000</td>\n",
       "      <td>130.500000</td>\n",
       "    </tr>\n",
       "    <tr>\n",
       "      <th>max</th>\n",
       "      <td>9.00000</td>\n",
       "      <td>193.000000</td>\n",
       "    </tr>\n",
       "  </tbody>\n",
       "</table>\n",
       "</div>"
      ],
      "text/plain": [
       "       Study Hours  Exam Scores\n",
       "count     40.00000    40.000000\n",
       "mean       5.40000   102.150000\n",
       "std        2.46826    46.055457\n",
       "min        1.00000    16.000000\n",
       "25%        3.00000    73.750000\n",
       "50%        5.00000    99.000000\n",
       "75%        7.25000   130.500000\n",
       "max        9.00000   193.000000"
      ]
     },
     "execution_count": 41,
     "metadata": {},
     "output_type": "execute_result"
    }
   ],
   "source": [
    "# View statistical details of the dataset\n",
    "df.describe()"
   ]
  },
  {
   "cell_type": "markdown",
   "id": "bd1e58ac",
   "metadata": {},
   "source": [
    "### Dependent and Independent Variables"
   ]
  },
  {
   "cell_type": "markdown",
   "id": "91d2d24e",
   "metadata": {},
   "source": [
    "#### Independent variable"
   ]
  },
  {
   "cell_type": "markdown",
   "id": "64d6cab9",
   "metadata": {},
   "source": [
    "Independent variables are also called Input, Featured, Predictor Variables and is denoted on X axis. It is denoted as:-\n",
    "\n",
    "Independent or Input Variables(X) = Feature Variables = Predictor Variables"
   ]
  },
  {
   "cell_type": "markdown",
   "id": "2d6bce05",
   "metadata": {},
   "source": [
    "#### Dependent Variables"
   ]
  },
  {
   "cell_type": "markdown",
   "id": "bfd260c9",
   "metadata": {},
   "source": [
    "Dependent variables are also called Output, Target, Responsive Variables and is denoted on Y-axis. It is denoted as:-\n",
    "\n",
    "Dependent or Output Variables(Y) = Target Variables = Responsive variables "
   ]
  },
  {
   "cell_type": "code",
   "execution_count": 42,
   "id": "c928ad03",
   "metadata": {},
   "outputs": [],
   "source": [
    "# Declare Featured and Target variables\n",
    "\n",
    "X = df['Study Hours'].values\n",
    "Y = df['Exam Scores'].values\n",
    "\n",
    "# Study Hours and Exam Scores data values are give to the X and Y axis respectively\n",
    "# Values attributes of pandas dataframe returns a numpy array"
   ]
  },
  {
   "cell_type": "markdown",
   "id": "0ebef1b8",
   "metadata": {},
   "source": [
    "### Visual Exploratory Data Analysis"
   ]
  },
  {
   "cell_type": "code",
   "execution_count": 49,
   "id": "a3fac4c3",
   "metadata": {},
   "outputs": [
    {
     "data": {
      "image/png": "[encoded data removed]",
      "text/plain": [
       "<Figure size 640x480 with 1 Axes>"
      ]
     },
     "metadata": {},
     "output_type": "display_data"
    }
   ],
   "source": [
    "# Plot a scatter plot to check the distribution of data points\n",
    "\n",
    "plt.scatter(X, Y, color = 'blue', label = 'Scatter plot')\n",
    "plt.title('Relationship between Study Hours and Exam Scores')\n",
    "plt.xlabel('Study Hours')\n",
    "plt.ylabel('Exam Scores')\n",
    "plt.legend(loc = 4)\n",
    "plt.show()"
   ]
  },
  {
   "cell_type": "markdown",
   "id": "2ed233fb",
   "metadata": {},
   "source": [
    "### Checking dimensions of X and Y"
   ]
  },
  {
   "cell_type": "markdown",
   "id": "52b225b7",
   "metadata": {},
   "source": [
    "We need to check the dimensions of X and Y to make sure that they are in the right format for Scikit-Learn API"
   ]
  },
  {
   "cell_type": "code",
   "execution_count": 51,
   "id": "15bb1f11",
   "metadata": {},
   "outputs": [
    {
     "name": "stdout",
     "output_type": "stream",
     "text": [
      "(40,)\n",
      "(40,)\n"
     ]
    }
   ],
   "source": [
    "# Print the dimensions of x and Y\n",
    "\n",
    "print(X.shape)\n",
    "print(Y.shape)"
   ]
  },
  {
   "cell_type": "markdown",
   "id": "d59d33c0",
   "metadata": {},
   "source": [
    "### Reshaping X and Y"
   ]
  },
  {
   "cell_type": "markdown",
   "id": "56a74f7f",
   "metadata": {},
   "source": [
    "Since we are working with only one feature variable, so we need to reshape it using Numpy reshape() method.\n",
    "\n",
    "It specifies first dimensions to be -1, which means \"unspecified\".\n",
    "\n",
    "Its values is inferred form the length of the array and the remaining dimensions."
   ]
  },
  {
   "cell_type": "code",
   "execution_count": 53,
   "id": "773d383a",
   "metadata": {},
   "outputs": [],
   "source": [
    "# Reshape X and Y\n",
    "\n",
    "X = X.reshape(-1, 1)\n",
    "Y = Y.reshape(-1, 1)"
   ]
  },
  {
   "cell_type": "code",
   "execution_count": 58,
   "id": "97327d58",
   "metadata": {},
   "outputs": [
    {
     "name": "stdout",
     "output_type": "stream",
     "text": [
      "(40, 1)\n",
      "(40, 1)\n"
     ]
    }
   ],
   "source": [
    "# Print the dimensions of X and Y after reshaping \n",
    "\n",
    "print(X.shape)\n",
    "print(Y.shape)"
   ]
  },
  {
   "cell_type": "markdown",
   "id": "60febe3e",
   "metadata": {},
   "source": [
    "### Difference in dimensions of X and Y after reshaping"
   ]
  },
  {
   "cell_type": "markdown",
   "id": "20b06541",
   "metadata": {},
   "source": [
    "Diffecrence in dimensions of X and Y before and after reshaping is clearly visible. It is important to do so because getting the right feature and target variable is an important step towards model building"
   ]
  },
  {
   "cell_type": "markdown",
   "id": "b058697b",
   "metadata": {},
   "source": [
    "### Train Test Split"
   ]
  },
  {
   "cell_type": "markdown",
   "id": "fa5f0007",
   "metadata": {},
   "source": [
    "We will divide the dataset into two sets: train set and test set. The model learns the relationship from training data and predict on test data "
   ]
  },
  {
   "cell_type": "code",
   "execution_count": 59,
   "id": "42addd20",
   "metadata": {},
   "outputs": [],
   "source": [
    "# Split the dataset into training and test set\n",
    "from sklearn.model_selection import train_test_split\n",
    "X_train, X_test, Y_train, Y_test = train_test_split(X, Y, test_size = 0.3, random_state = 42)"
   ]
  },
  {
   "cell_type": "code",
   "execution_count": 61,
   "id": "65801c84",
   "metadata": {},
   "outputs": [
    {
     "name": "stdout",
     "output_type": "stream",
     "text": [
      "(28, 1)\n",
      "(28, 1)\n",
      "(12, 1)\n",
      "(12, 1)\n"
     ]
    }
   ],
   "source": [
    "# Print the dimensions of X_train, X_test, Y_train, Y_test\n",
    "print(X_train.shape)\n",
    "print(Y_train.shape)\n",
    "print(X_test.shape)\n",
    "print(Y_test.shape)\n"
   ]
  },
  {
   "cell_type": "markdown",
   "id": "f95b0c94",
   "metadata": {},
   "source": [
    "### Mechanics of the model"
   ]
  },
  {
   "cell_type": "markdown",
   "id": "8f88d1a6",
   "metadata": {},
   "source": [
    "We split the dataset into two set- the training set and the testing set. Then we instigate the regressor lm and fit it on the training set with the fit method.\n",
    "\n",
    "In this step the model learns the relationship between the training data(X_train, Y_train).\n",
    "\n",
    "Now the model is ready to make predictions on the test data(X_test)."
   ]
  },
  {
   "cell_type": "code",
   "execution_count": 62,
   "id": "ad26a339",
   "metadata": {},
   "outputs": [],
   "source": [
    "# Fit the linear model\n",
    "# Instantiate the Linear Regression model\n",
    "from sklearn.linear_model import LinearRegression\n",
    "lm = LinearRegression()\n",
    "\n",
    "# Train the model using training set\n",
    "lm.fit(X_train, Y_train)\n",
    "\n",
    "# Predict on the test data\n",
    "Y_pred = lm.predict(X_test)"
   ]
  },
  {
   "cell_type": "markdown",
   "id": "745f8985",
   "metadata": {},
   "source": [
    "### Model slope and intercept term"
   ]
  },
  {
   "cell_type": "markdown",
   "id": "32455c58",
   "metadata": {},
   "source": [
    "The model slope is given by lm.coef_ and model intercept is given by lm.intercept_."
   ]
  },
  {
   "cell_type": "code",
   "execution_count": 63,
   "id": "015b2992",
   "metadata": {},
   "outputs": [
    {
     "name": "stdout",
     "output_type": "stream",
     "text": [
      "Estimated model slope, a: [[11.32663092]]\n",
      "Estimated model intercept, b: [38.73637176]\n"
     ]
    }
   ],
   "source": [
    "# Compute model slope and intercept\n",
    "a = lm.coef_\n",
    "b = lm.intercept_\n",
    "print(\"Estimated model slope, a:\", a)\n",
    "print(\"Estimated model intercept, b:\", b)"
   ]
  },
  {
   "cell_type": "markdown",
   "id": "97d877b3",
   "metadata": {},
   "source": [
    "**So the equation of our line is y = 11.32663092*x + 38.73637176**"
   ]
  },
  {
   "cell_type": "markdown",
   "id": "e15e87af",
   "metadata": {},
   "source": [
    "### Making Predictions"
   ]
  },
  {
   "cell_type": "code",
   "execution_count": 75,
   "id": "9f1fbd02",
   "metadata": {},
   "outputs": [
    {
     "data": {
      "text/plain": [
       "array([[118.0227882 ],\n",
       "       [ 84.04289544],\n",
       "       [129.34941912],\n",
       "       [ 95.36952636],\n",
       "       [118.0227882 ]])"
      ]
     },
     "execution_count": 75,
     "metadata": {},
     "output_type": "execute_result"
    }
   ],
   "source": [
    "# Predicting the Scores\n",
    "lm.predict(X)[0:5]\n",
    "# Predicting the Scores on the first five hours of study"
   ]
  },
  {
   "cell_type": "code",
   "execution_count": 76,
   "id": "a787d494",
   "metadata": {},
   "outputs": [
    {
     "name": "stdout",
     "output_type": "stream",
     "text": [
      "[[152.00268097]]\n"
     ]
    }
   ],
   "source": [
    "# To make an individual prediction using linear regression model.\n",
    "print(str(lm.predict([[10]])))"
   ]
  },
  {
   "cell_type": "markdown",
   "id": "94d86b47",
   "metadata": {},
   "source": [
    "### Regression Metrics for model performance"
   ]
  },
  {
   "cell_type": "markdown",
   "id": "caedd3be",
   "metadata": {},
   "source": [
    "There are two ways to evaluate model performance. They are RMSE(Root Mean Square Error) and R-Squared value."
   ]
  },
  {
   "cell_type": "markdown",
   "id": "acd6a501",
   "metadata": {},
   "source": [
    "### RMSE"
   ]
  },
  {
   "cell_type": "code",
   "execution_count": 77,
   "id": "d09e9a13",
   "metadata": {},
   "outputs": [
    {
     "name": "stdout",
     "output_type": "stream",
     "text": [
      "RMSE value: 52.3447\n"
     ]
    }
   ],
   "source": [
    "# Calculate and print RMSE\n",
    "\n",
    "from sklearn.metrics import mean_squared_error\n",
    "mse = mean_squared_error(Y_test, Y_pred)\n",
    "rmse = np.sqrt(mse)\n",
    "print(\"RMSE value: {:.4f}\".format(rmse))"
   ]
  },
  {
   "cell_type": "markdown",
   "id": "e72dbcd1",
   "metadata": {},
   "source": [
    "### R2 Scores"
   ]
  },
  {
   "cell_type": "code",
   "execution_count": 78,
   "id": "4c2ac43b",
   "metadata": {},
   "outputs": [
    {
     "name": "stdout",
     "output_type": "stream",
     "text": [
      "R2 Score: 0.2362\n"
     ]
    }
   ],
   "source": [
    "# calculate and print R2 Scores\n",
    "\n",
    "from sklearn.metrics import r2_score\n",
    "print(\"R2 Score: {:.4f}\".format(r2_score(Y_test, Y_pred)))"
   ]
  },
  {
   "cell_type": "markdown",
   "id": "44ff9fb8",
   "metadata": {},
   "source": [
    "### Interpretation and Conclution"
   ]
  },
  {
   "cell_type": "code",
   "execution_count": 91,
   "id": "9d7c781a",
   "metadata": {},
   "outputs": [
    {
     "data": {
      "image/png": "[encoded data removed]",
      "text/plain": [
       "<Figure size 640x480 with 1 Axes>"
      ]
     },
     "metadata": {},
     "output_type": "display_data"
    }
   ],
   "source": [
    "# Plot the regression line\n",
    "plt.scatter(X, Y, color = 'blue', label = 'Scatter plot')\n",
    "plt.plot(X_test, Y_pred, color = 'black', label = 'regression line')\n",
    "plt.xlabel('Study Hours')\n",
    "plt.ylabel('Exam Scores')\n",
    "plt.title('Relationship between Study Hours and Exam Scores')\n",
    "plt.legend(loc = 0)\n",
    "plt.show()"
   ]
  },
  {
   "cell_type": "markdown",
   "id": "5fea4eee",
   "metadata": {},
   "source": [
    "### Residual Analysis"
   ]
  },
  {
   "cell_type": "code",
   "execution_count": 104,
   "id": "dadff2d1",
   "metadata": {},
   "outputs": [
    {
     "data": {
      "image/png": "[encoded data removed]",
      "text/plain": [
       "<Figure size 640x480 with 1 Axes>"
      ]
     },
     "metadata": {},
     "output_type": "display_data"
    }
   ],
   "source": [
    "# Plotting residual errors\n",
    "\n",
    "plt.scatter(lm.predict(X_train), lm.predict(X_train) - Y_train, color = 'red', label = 'Train data')\n",
    "plt.scatter(lm.predict(X_test), lm.predict(X_test) - Y_test, color = 'blue', label = 'Test data')\n",
    "plt.hlines(xmin = 10, xmax = 200, y = 0, linewidth = 3, color = 'black')\n",
    "plt.title('Residual Errors')\n",
    "plt.legend(loc = 4)\n",
    "plt.show()\n"
   ]
  },
  {
   "cell_type": "markdown",
   "id": "120a2ab1",
   "metadata": {},
   "source": [
    "### Checking for Overfitting and Underfitting"
   ]
  },
  {
   "cell_type": "code",
   "execution_count": 105,
   "id": "3de74b9e",
   "metadata": {},
   "outputs": [
    {
     "name": "stdout",
     "output_type": "stream",
     "text": [
      "Training set score: 0.5642\n",
      "Test set score: 0.2362\n"
     ]
    }
   ],
   "source": [
    "# Check for Overfitting and underfitting\n",
    "print(\"Training set score: {:.4f}\".format(lm.score(X_train, Y_train)))\n",
    "print(\"Test set score: {:.4f}\".format(lm.score(X_test, Y_test)))"
   ]
  },
  {
   "cell_type": "code",
   "execution_count": 108,
   "id": "ba9e4900",
   "metadata": {},
   "outputs": [
    {
     "data": {
      "text/plain": [
       "['linear_regression_model.pkl']"
      ]
     },
     "execution_count": 108,
     "metadata": {},
     "output_type": "execute_result"
    }
   ],
   "source": [
    "# Save model for future use\n",
    "\n",
    "import joblib\n",
    "joblib.dump(lm, 'linear_regression_model.pkl')\n",
    "\n",
    "# To load the model\n",
    "# lm2 = joblib.load('lm_regression_model.pkl')"
   ]
  },
  {
   "cell_type": "markdown",
   "id": "1b51330c",
   "metadata": {},
   "source": [
    "### Simple Linear Regression - Model Assumptions\n",
    "The Linear Regression Model is based on several assumptions which are listed below:-\n",
    "\n",
    "i. Linear relationship ii. Multivariate normality iii. No or little multicollinearity iv. No auto-correlation v. Homoscedasticity\n",
    "\n",
    "#### i. Linear relationship\n",
    "The relationship between response and feature variables should be linear. This linear relationship assumption can be tested by plotting a scatter-plot between response and feature variables.\n",
    "\n",
    "#### ii. Multivariate normality\n",
    "The linear regression model requires all variables to be multivariate normal. A multivariate normal distribution means a vector in multiple normally distributed variables, where any linear combination of the variables is also normally distributed.\n",
    "\n",
    "#### iii. No or little multicollinearity\n",
    "It is assumed that there is little or no multicollinearity in the data. Multicollinearity occurs when the features (or independent variables) are highly correlated.\n",
    "\n",
    "#### iv. No auto-correlation\n",
    "Also, it is assumed that there is little or no auto-correlation in the data. Autocorrelation occurs when the residual errors are not independent from each other.\n",
    "\n",
    "#### v. Homoscedasticity\n",
    "Homoscedasticity describes a situation in which the error term (that is, the noise in the model) is the same across all values of the independent variables. It means the residuals are same across the regression line. It can be checked by looking at scatter plot."
   ]
  }
 ],
 "metadata": {
  "kernelspec": {
   "display_name": "Python 3",
   "language": "python",
   "name": "python3"
  },
  "language_info": {
   "codemirror_mode": {
    "name": "ipython",
    "version": 3
   },
   "file_extension": ".py",
   "mimetype": "text/x-python",
   "name": "python",
   "nbconvert_exporter": "python",
   "pygments_lexer": "ipython3",
   "version": "3.10.0"
  }
 },
 "nbformat": 4,
 "nbformat_minor": 5
}
